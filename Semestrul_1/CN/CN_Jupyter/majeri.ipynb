{
 "cells": [
  {
   "cell_type": "markdown",
   "metadata": {},
   "source": [
    "# Calcul Numeric - Subiecte de examen\n",
    "\n",
    "**Notă**: formulele de $\\LaTeX$ nu se văd prea bine în viewer-ul de pe GitHub, e mai bine să descărcați acest document local."
   ]
  },
  {
   "cell_type": "code",
   "execution_count": 1,
   "metadata": {},
   "outputs": [],
   "source": [
    "import math\n",
    "import numpy as np\n",
    "import scipy.spatial\n",
    "import matplotlib.pyplot as plt"
   ]
  },
  {
   "cell_type": "markdown",
   "metadata": {},
   "source": [
    "## Exercițiul 1\n",
    "\n",
    "Metoda bisecției - secțiunea I.1 din [cursul 1](https://drive.google.com/file/d/1hUFKessAxlGIT_gNFlH7-4yyuyQ_4vFe/view)"
   ]
  },
  {
   "cell_type": "markdown",
   "metadata": {},
   "source": [
    "### a)\n",
    "\n",
    "Pentru a găsi intervalele de monotonie ale lui $f(x) = x^3 - 4x + 1$, calculăm derivata funcției: $f'(x) = 3x^2 - 4$.\n",
    "\n",
    "Vedem că derivata se anulează în $\\pm \\frac{2 \\sqrt{3}}{3}$. Deci intervalele de monotonie sunt:\n",
    "- $\\left(-\\infty, -\\frac{2 \\sqrt{3}}{3}\\right)$\n",
    "- $\\left(-\\frac{2 \\sqrt{3}}{3}, +\\frac{2 \\sqrt{3}}{3}\\right)$\n",
    "- $\\left(+\\frac{2 \\sqrt{3}}{3}, +\\infty\\right)$"
   ]
  },
  {
   "cell_type": "markdown",
   "metadata": {},
   "source": [
    "### b)\n",
    "\n",
    "Observăm că $f\\left(+ \\frac{2 \\sqrt{3}}{3}\\right) < 0$, și de exemplu $f(4) > 0$. Deci în acest interval funcția are cel puțin o soluție reală. Dar deoarece este și monotonă pe $\\left(\\frac{2 \\sqrt{3}}{3}, +\\infty\\right)$, această soluție este unică."
   ]
  },
  {
   "cell_type": "markdown",
   "metadata": {},
   "source": [
    "### c)"
   ]
  },
  {
   "cell_type": "code",
   "execution_count": 2,
   "metadata": {},
   "outputs": [
    {
     "name": "stdout",
     "output_type": "stream",
     "text": [
      "a = -4, b = -1, error = inf\n",
      "a = -2.5, b = -1, error = 0.30012004801920766\n",
      "a = -2.5, b = -1.75, error = 0.2144082332761578\n",
      "a = -2.125, b = -1.75, error = 0.08827683615819208\n",
      "a = -2.125, b = -1.9375, error = 0.04841208365608055\n",
      "a = -2.125, b = -2.03125, error = 0.023088289619504987\n",
      "a = -2.125, b = -2.078125, error = 0.011283625203105253\n",
      "a = -2.125, b = -2.1015625, error = 0.005578862804605909\n",
      "a = -2.125, b = -2.11328125, error = 0.0027739558830056367\n",
      "a = -2.119140625, b = -2.11328125, error = 0.0013831411689202646\n",
      "a = -2.1162109375, b = -2.11328125, error = 0.0006925284490686877\n",
      "x1 = -2.115478515625\n",
      "a = -1, b = 1, error = inf\n",
      "a = 0.0, b = 1, error = 500.0\n",
      "a = 0.0, b = 0.5, error = 0.499001996007984\n",
      "a = 0.25, b = 0.5, error = 0.49800796812749004\n",
      "a = 0.25, b = 0.375, error = 0.16622340425531915\n",
      "a = 0.25, b = 0.3125, error = 0.09968102073365231\n",
      "a = 0.25, b = 0.28125, error = 0.05535872453498671\n",
      "a = 0.25, b = 0.265625, error = 0.029301453352086265\n",
      "a = 0.25, b = 0.2578125, error = 0.015092972711905336\n",
      "a = 0.25390625, b = 0.2578125, error = 0.007662130685300968\n",
      "x2 = 0.2548828125\n",
      "a = 1, b = 4, error = inf\n",
      "a = 1, b = 2.5, error = 0.2998800479808077\n",
      "a = 1.75, b = 2.5, error = 0.21416333523700745\n",
      "a = 1.75, b = 2.125, error = 0.08819379115710255\n",
      "a = 1.75, b = 1.9375, error = 0.04836213567191128\n",
      "a = 1.84375, b = 1.9375, error = 0.025409947147309934\n",
      "a = 1.84375, b = 1.890625, error = 0.012390140751998943\n",
      "a = 1.84375, b = 1.8671875, error = 0.006272791141146165\n",
      "a = 1.85546875, b = 1.8671875, error = 0.003156193714545424\n",
      "a = 1.85546875, b = 1.861328125, error = 0.001573131748735202\n",
      "a = 1.8583984375, b = 1.861328125, error = 0.0007878051957328269\n",
      "x3 = 1.860595703125\n"
     ]
    }
   ],
   "source": [
    "def bisection_search(f, a, b, epsilon=1e-3):\n",
    "    # Calculăm valorile în capete\n",
    "    f_a = f(a)\n",
    "    f_b = f(b)\n",
    "\n",
    "    # Prima estimare, mijlocul intervalului inițial\n",
    "    x_num = (a + b) / 2\n",
    "\n",
    "    # Numărul necesar de iterații\n",
    "    num_iterations = math.floor(math.log2((b - a) / epsilon) - 1) + 1\n",
    "    \n",
    "    last_rel_error = math.inf\n",
    "\n",
    "    # Aplicăm algoritmul\n",
    "    for step in range(num_iterations):\n",
    "    \n",
    "        print(f\"a = {a}, b = {b}, error = {last_rel_error}\")\n",
    "        value = f(x_num)\n",
    "\n",
    "        # Am găsit fix valoarea căutată, ieșim\n",
    "        if value == 0:\n",
    "            break\n",
    "        elif f_a * value < 0:\n",
    "            b = x_num\n",
    "        else:\n",
    "            a = x_num\n",
    "        \n",
    "        x_num_vechi = x_num\n",
    "        x_num = (a + b) / 2\n",
    "        \n",
    "        last_rel_error = abs((x_num - x_num_vechi)) / abs(x_num_vechi + epsilon)\n",
    "\n",
    "    return x_num\n",
    "\n",
    "f = lambda x: x ** 3 - 4 * x + 1\n",
    "print(\"x1 =\", bisection_search(f, -4, -1))\n",
    "print(\"x2 =\", bisection_search(f, -1, 1))\n",
    "print(\"x3 =\", bisection_search(f, 1, 4))"
   ]
  },
  {
   "cell_type": "markdown",
   "metadata": {},
   "source": [
    "## Exercițiul 2\n",
    "\n",
    "Metoda Newton-Rhapson - secțiunea I.2 din [cursul 1](https://drive.google.com/file/d/1hUFKessAxlGIT_gNFlH7-4yyuyQ_4vFe/view)"
   ]
  },
  {
   "cell_type": "markdown",
   "metadata": {},
   "source": [
    "### a)\n",
    "\n",
    "#### Formula\n",
    "\n",
    "Formula pentru următorul din șirul aproximărilor este\n",
    "\n",
    "$$x_k = x_{k-1} - \\frac{f (x_{k-1})}{f'(x_{k - 1})}$$\n",
    "\n",
    "#### Convergență \n",
    "\n",
    "Fie $f \\in C^2([a, b])$, $f'$ și $f''$ nu se anulează pe $[a, b]$ și $f(a) f(b) < 0$. \n",
    "\n",
    "Fie $x_0 \\in [a, b]$ astfel încât să aibă loc condiția\n",
    "\n",
    "$$f(x_0) f''(x_0) > 0$$\n",
    "\n",
    "atunci ecuația $f(x) = 0$ are o soluție unică $x^* \\in (a, b)$ iar șirul $x_k$ construit prin metoda Newton-Rhapson converge la $x^*$."
   ]
  },
  {
   "cell_type": "markdown",
   "metadata": {},
   "source": [
    "### b)\n",
    "\n",
    "Fie $f(x) = x^2 + 2 x − 1$, $f \\colon [0.1, 2] \\to \\mathbb{R}$.\n",
    "\n",
    "Atunci $f'(x) = 2x + 2$, $f''(x) = 2$.\n",
    "\n",
    "Avem că:\n",
    "- $f$ este de clasă $C^2$\n",
    "- $f'$ și $f''$ nu se anulează pe $[0.1, 2]$\n",
    "- $f(0.1) f(2) = -0.79 \\cdot 7 < 0$\n",
    "\n",
    "Dacă luăm $x_0 = 1$ avem $f(x_0) f''(x_0) = 2 \\cdot 2 > 0$, deci ipotezele teoremei de convergență sunt satisfăcute."
   ]
  },
  {
   "cell_type": "markdown",
   "metadata": {},
   "source": [
    "### c)"
   ]
  },
  {
   "cell_type": "code",
   "execution_count": 3,
   "metadata": {},
   "outputs": [
    {
     "name": "stdout",
     "output_type": "stream",
     "text": [
      "x = 0.5, error = inf\n",
      "x = 0.4166666666666667, error = 0.16666666666666663\n",
      "x = 0.41421568627450983, error = 0.00588235294117645\n"
     ]
    },
    {
     "data": {
      "text/plain": [
       "0.41421356237468987"
      ]
     },
     "execution_count": 3,
     "metadata": {},
     "output_type": "execute_result"
    }
   ],
   "source": [
    "def newton_rhapson(f, df, x0, epsilon=1e-3):\n",
    "    # Primul punct este cel primit ca parametru\n",
    "    prev_x = x0\n",
    "    # Aplicăm prima iterație\n",
    "    x = x0 - f(x0) / df(x0)\n",
    "\n",
    "    # Continuăm să calculăm până avem precizia cerută.\n",
    "    last_rel_error = math.inf\n",
    "    while abs(x - prev_x) / abs(prev_x) > epsilon:\n",
    "        print(f\"x = {x}, error = {last_rel_error}\")\n",
    "        x, prev_x = x - f(x) / df(x), x\n",
    "\n",
    "        last_rel_error = abs((x - prev_x)) / abs(prev_x)\n",
    "\n",
    "    return x\n",
    "\n",
    "f = lambda x: x**2 + 2 * x - 1\n",
    "df = lambda x: 2 * x + 2\n",
    "x0 = 1\n",
    "newton_rhapson(f, df, x0)"
   ]
  },
  {
   "cell_type": "markdown",
   "metadata": {},
   "source": [
    "## Exercițiul 3\n",
    "\n",
    "Metoda lui Gauss - [cursul 3](https://drive.google.com/file/d/1huTen5Elw203cEOoQMRt1gchFciXlIXp/view)"
   ]
  },
  {
   "cell_type": "code",
   "execution_count": 4,
   "metadata": {},
   "outputs": [],
   "source": [
    "A1 = np.array([\n",
    "    [1, 0, -2],\n",
    "    [2, -2, 0],\n",
    "    [1, 2, 1],\n",
    "], dtype=np.float64)\n",
    "b1 = np.array([\n",
    "    [-5],\n",
    "    [-6],\n",
    "    [5]\n",
    "], dtype=np.float64)\n",
    "\n",
    "A2 = np.array([\n",
    "    [2, -2, 1],\n",
    "    [1, 3, -2],\n",
    "    [3, -1, -1]\n",
    "], dtype=np.float64)\n",
    "b2 = np.array([\n",
    "    [-3],\n",
    "    [1],\n",
    "    [2]\n",
    "], dtype=np.float64)"
   ]
  },
  {
   "cell_type": "code",
   "execution_count": 5,
   "metadata": {},
   "outputs": [
    {
     "name": "stdout",
     "output_type": "stream",
     "text": [
      "[[ 1.  0. -2. -5.]\n",
      " [ 2. -2.  0. -6.]\n",
      " [ 1.  2.  1.  5.]]\n",
      "[[ 2. -2.  0. -6.]\n",
      " [ 0.  1. -2. -2.]\n",
      " [ 0.  3.  1.  8.]]\n",
      "[-1.  2.  2.]\n",
      "\n",
      "[[ 2. -2.  1. -3.]\n",
      " [ 1.  3. -2.  1.]\n",
      " [ 3. -1. -1.  2.]]\n",
      "[[ 3.          1.         -2.          1.        ]\n",
      " [ 0.          2.66666667 -0.33333333 -2.33333333]\n",
      " [ 0.          3.33333333 -1.66666667  2.33333333]]\n",
      "[-1.4 -2.  -4.2]\n"
     ]
    }
   ],
   "source": [
    "def compute_upper_triangular(A, b, partial_pivot=False, full_pivot=False):\n",
    "    \"\"\"Aduce un sistem la forma superior triunghiulară\n",
    "    folosind Gauss cu/fără pivotare totală/parțială.\n",
    "    \"\"\"\n",
    "    if partial_pivot and full_pivot:\n",
    "        raise Exception(\"Se poate folosi doar un tip de pivotare\")\n",
    "\n",
    "    N = A.shape[0]\n",
    "\n",
    "    # Formez matricea sistemului\n",
    "    M = np.concatenate((A, b), axis=1)\n",
    "\n",
    "    indices = np.arange(0, N)\n",
    "\n",
    "    for k in range(N - 1):\n",
    "        print(M)\n",
    "\n",
    "        if partial_pivot:\n",
    "            # Găsesc indicele elementului de valoare maximă\n",
    "            index = np.argmax(M[k:, k])\n",
    "\n",
    "            # Pivotez\n",
    "            M[[k, index]] = M[[index, k]]\n",
    "        elif full_pivot:\n",
    "            submatrix = M[k:, k:N - 1]\n",
    "            index = np.unravel_index(np.argmax(np.abs(submatrix)), submatrix.shape)\n",
    "\n",
    "            # Obțin indicii în matricea mare\n",
    "            index = (index[0] + k, index[1] + k)\n",
    "\n",
    "            M[[k, index[0]]] = M[[index[0], k]]\n",
    "            M[:, [k, index[1]]] = M[:, [index[1], k]]\n",
    "\n",
    "            indices[[k, index[1]]] = indices[[index[1], k]]\n",
    "\n",
    "        # Selectez coloana\n",
    "        ratios = M[k + 1:, k]\n",
    "\n",
    "        # Determin raportul pentru fiecare rând\n",
    "        ratios = ratios / M[k, k]\n",
    "\n",
    "        row = M[k, :]\n",
    "\n",
    "        # Înmulțesc fiecare raport cu primul rând\n",
    "        difference = np.outer(ratios, row)\n",
    "\n",
    "        # Actualizez matricea\n",
    "        M[k + 1:, :] -= difference\n",
    "\n",
    "    return M, indices\n",
    "\n",
    "\n",
    "def solve_upper_triangular(U, C, print_steps=False):\n",
    "    \"\"\"Rezolvă un sistem în formă superior triunghiulară,\n",
    "    folosind substituția descendentă.\n",
    "    \"\"\"\n",
    "    N = U.shape[0]\n",
    "\n",
    "    x = np.zeros(N)\n",
    "\n",
    "    # Merg de la ultima linie către prima,\n",
    "    # și rezolv pe rând ecuațiile prin substituție\n",
    "    for i in range(N - 1, -1, -1):\n",
    "        coefs = U[i, i + 1:]\n",
    "        values = x[i + 1:]\n",
    "\n",
    "        x[i] = (C[i] - coefs @ values) / U[i, i]\n",
    "\n",
    "        if print_steps:\n",
    "            print(\"Pasul\", N - i, \":\",\n",
    "                C[i], \"-\", coefs, \"@\", values, \")\",\n",
    "                \"/\", U[i, i])\n",
    "\n",
    "    return x\n",
    "\n",
    "\n",
    "def solve_system(A, b, pivot=None):\n",
    "    \"Rezolvă un sistem folosind metoda Gauss.\"\n",
    "\n",
    "    determinant = np.linalg.det(A)\n",
    "\n",
    "    if np.abs(determinant) < 1e-14:\n",
    "        # Sistemul nu are soluție\n",
    "        return None\n",
    "\n",
    "    partial_pivot = False\n",
    "    full_pivot = False\n",
    "\n",
    "    if pivot == \"full\":\n",
    "        full_pivot = True\n",
    "    elif pivot == \"partial\":\n",
    "        partial_pivot = True\n",
    "\n",
    "    M, indices = compute_upper_triangular(A, b, partial_pivot=partial_pivot, full_pivot=full_pivot)\n",
    "\n",
    "    N = A.shape[0]\n",
    "    U = M[:,:N]\n",
    "    C = M[:,N]\n",
    "\n",
    "    x = solve_upper_triangular(U, C)\n",
    "    x = x[indices]\n",
    "\n",
    "    return x\n",
    "\n",
    "print(solve_system(A1, b1, pivot='partial'))\n",
    "print()\n",
    "print(solve_system(A2, b2, pivot='full'))"
   ]
  },
  {
   "cell_type": "markdown",
   "metadata": {},
   "source": [
    "## Exercițiul 4\n",
    "\n",
    "Descompunerea LU - [cursul 4](https://drive.google.com/file/d/14jt-8XcekhX8CgMgMgtnwtDEpr_lzd02/view)"
   ]
  },
  {
   "cell_type": "code",
   "execution_count": 6,
   "metadata": {},
   "outputs": [],
   "source": [
    "A = np.array([\n",
    "    [2, 3, 1],\n",
    "    [4, 8, 4],\n",
    "    [-4, 0, 10],\n",
    "], dtype=np.float64)\n",
    "\n",
    "\n",
    "b = np.array([\n",
    "    [5],\n",
    "    [18],\n",
    "    [20],\n",
    "], dtype=np.float64)"
   ]
  },
  {
   "cell_type": "code",
   "execution_count": 7,
   "metadata": {},
   "outputs": [
    {
     "name": "stdout",
     "output_type": "stream",
     "text": [
      "L = \n",
      "[[ 1.     0.     0.   ]\n",
      " [-1.     1.     0.   ]\n",
      " [ 0.5   -0.125  1.   ]]\n",
      "U = \n",
      "[[ 4.    8.    4.  ]\n",
      " [ 0.    8.   14.  ]\n",
      " [ 0.    0.    0.75]]\n",
      "L @ U = \n",
      "[[ 4.  8.  4.]\n",
      " [-4.  0. 10.]\n",
      " [ 2.  3.  1.]]\n",
      "P @ A = \n",
      "[[ 4.  8.  4.]\n",
      " [-4.  0. 10.]\n",
      " [ 2.  3.  1.]]\n",
      "\n",
      "Rezolv pentru b =  [[ 5. 18. 20.]]\n",
      "Obțin y =  [18.   38.    0.75]\n",
      "Obțin x =  [-2.5  3.   1. ]\n",
      "Verificare: A @ x =  [ 5. 18. 20.]\n"
     ]
    }
   ],
   "source": [
    "\n",
    "N = A.shape[0]\n",
    "P = np.eye(N)\n",
    "L = np.zeros((N, N))\n",
    "U = np.copy(A)\n",
    "\n",
    "partial_pivot = True\n",
    "\n",
    "for k in range(N - 1):\n",
    "    if partial_pivot:\n",
    "        # Găsesc indicele elementului de magnitudine maximă\n",
    "        index = k + np.argmax(np.abs(U[k:, k]))\n",
    "\n",
    "        # Pivotez\n",
    "        U[[k, index]] = U[[index, k]]\n",
    "        L[[k, index]] = L[[index, k]]\n",
    "\n",
    "        # Interschimb în permutare\n",
    "        P[[k, index]] = P[[index, k]]\n",
    "\n",
    "    # Selectez coloana pe care lucrez\n",
    "    ratios = U[k + 1:, k]\n",
    "\n",
    "    # Determin raportul pentru fiecare rând\n",
    "    ratios = ratios / U[k, k]\n",
    "\n",
    "    # Actualizez matricea inferior triunghiulară\n",
    "    L[k + 1:, k] = ratios\n",
    "\n",
    "    # Selectez rândul pe care vreau să-l actualizez\n",
    "    row = U[k, :]\n",
    "\n",
    "    # Înmulțesc fiecare raport cu primul rând\n",
    "    difference = np.outer(ratios, row)\n",
    "\n",
    "    # Actualizez matricea superior triunghiulară\n",
    "    U[k + 1:, :] -= difference\n",
    "\n",
    "L += np.eye(N)\n",
    "\n",
    "print(\"L = \")\n",
    "print(L)\n",
    "print(\"U = \")\n",
    "print(U)\n",
    "print(\"L @ U = \")\n",
    "print(L @ U)\n",
    "print(\"P @ A = \")\n",
    "print(P @ A)\n",
    "print()\n",
    "\n",
    "\n",
    "print(\"Rezolv pentru b = \", b.T)\n",
    "\n",
    "# Permut numerele din vector\n",
    "b = P @ b\n",
    "\n",
    "\n",
    "y = np.zeros(N)\n",
    "\n",
    "# Merg de la prima linie în jos,\n",
    "# și rezolv pe rând ecuațiile prin substituție\n",
    "for i in range(0, N):\n",
    "    coefs = L[i, :i + 1]\n",
    "    values = y[:i + 1]\n",
    "\n",
    "    y[i] = (b[i] - coefs @ values) / L[i, i]\n",
    "\n",
    "print(\"Obțin y = \", y)\n",
    "\n",
    "\n",
    "x = np.zeros(N)\n",
    "\n",
    "# Merg de la ultima linie în sus,\n",
    "# și rezolv pe rând ecuațiile prin substituție\n",
    "for i in range(N - 1, -1, -1):\n",
    "    coefs = U[i, i + 1:]\n",
    "    values = x[i + 1:]\n",
    "\n",
    "    x[i] = (y[i] - coefs @ values) / U[i, i]\n",
    "\n",
    "print(\"Obțin x = \", x)\n",
    "print(\"Verificare: A @ x = \", A @ x)"
   ]
  },
  {
   "cell_type": "markdown",
   "metadata": {},
   "source": [
    "## Exercițiul 5"
   ]
  },
  {
   "cell_type": "code",
   "execution_count": 8,
   "metadata": {},
   "outputs": [],
   "source": [
    "A = np.array([\n",
    "    [4, 2, 4],\n",
    "    [2, 2, 3],\n",
    "    [4, 3, 14]\n",
    "])"
   ]
  },
  {
   "cell_type": "markdown",
   "metadata": {},
   "source": [
    "### a)"
   ]
  },
  {
   "cell_type": "code",
   "execution_count": 9,
   "metadata": {},
   "outputs": [
    {
     "data": {
      "text/plain": [
       "True"
      ]
     },
     "execution_count": 9,
     "metadata": {},
     "output_type": "execute_result"
    }
   ],
   "source": [
    "def simetrica(M):\n",
    "    \"Verifică dacă matricea `M` este simetrică.\"\n",
    "    return np.all(M == M.T)\n",
    "\n",
    "simetrica(A)"
   ]
  },
  {
   "cell_type": "code",
   "execution_count": 10,
   "metadata": {
    "scrolled": true
   },
   "outputs": [
    {
     "data": {
      "text/plain": [
       "True"
      ]
     },
     "execution_count": 10,
     "metadata": {},
     "output_type": "execute_result"
    }
   ],
   "source": [
    "def pozitiv_semidefinita(M):\n",
    "    \"Verifică dacă matricea M este pozitiv-semidefinită.\"\n",
    "    for i in range(1, M.shape[0]+1):\n",
    "        minor = M[:i, :i]\n",
    "        # Dacă cel puțin un minor principal nu are determinantul nenegativ,\n",
    "        # nu este pozitiv-semidefinită.\n",
    "        if np.linalg.det(minor) < 0:\n",
    "            return False\n",
    "    return True\n",
    "\n",
    "pozitiv_semidefinita(A)"
   ]
  },
  {
   "cell_type": "markdown",
   "metadata": {},
   "source": [
    "### b)"
   ]
  },
  {
   "cell_type": "code",
   "execution_count": 11,
   "metadata": {},
   "outputs": [
    {
     "name": "stdout",
     "output_type": "stream",
     "text": [
      "[[2. 0. 0.]\n",
      " [1. 1. 0.]\n",
      " [2. 1. 3.]]\n"
     ]
    }
   ],
   "source": [
    "def descompunere_cholesky(M):\n",
    "    N = M.shape[0]\n",
    "\n",
    "    L = np.eye(N)\n",
    "\n",
    "    for i in range(N):\n",
    "        L_i = np.eye(N)\n",
    "\n",
    "        pivot = M[i, i]\n",
    "        L_i[i:, i] = M[i:, i] / np.sqrt(pivot)\n",
    "\n",
    "        M_nou = np.eye(N)\n",
    "        outer = np.outer(M[i + 1:, i], M[i, i + 1:])\n",
    "        M_nou[i + 1:, i + 1:] = M[i + 1:, i + 1:] - outer / pivot\n",
    "\n",
    "        L = L @ L_i\n",
    "        M = M_nou\n",
    "\n",
    "    return L\n",
    "\n",
    "L = descompunere_cholesky(A)\n",
    "print(L)"
   ]
  },
  {
   "cell_type": "markdown",
   "metadata": {},
   "source": [
    "### c)\n",
    "\n",
    "Din descompunerea Cholesky am obținut $L$, și știm că $A = L L^T$.\n",
    "\n",
    "Ecuația se rescrie\n",
    "\n",
    "$$L L^T x = b$$\n",
    "\n",
    "Deci putem rezolva mai întâi sistemul inferior triunghiular\n",
    "\n",
    "$$L y = b$$\n",
    "\n",
    "Și apoi cel superior triunghiular\n",
    "\n",
    "$$L^T x = y$$"
   ]
  },
  {
   "cell_type": "code",
   "execution_count": 12,
   "metadata": {},
   "outputs": [],
   "source": [
    "b = np.array([\n",
    "    [10],\n",
    "    [6],\n",
    "    [11]\n",
    "])"
   ]
  },
  {
   "cell_type": "code",
   "execution_count": 13,
   "metadata": {},
   "outputs": [
    {
     "name": "stdout",
     "output_type": "stream",
     "text": [
      "x = [2. 1. 0.]\n"
     ]
    }
   ],
   "source": [
    "def substitutie_descendenta(U, b):\n",
    "    N = b.shape[0]\n",
    "    x = np.zeros(N)\n",
    "\n",
    "    for i in range(N - 1, -1, -1):\n",
    "        coefs = U[i, i + 1:]\n",
    "        values = x[i + 1:]\n",
    "\n",
    "        x[i] = (b[i] - coefs @ values) / U[i, i]\n",
    "\n",
    "    return x\n",
    "\n",
    "def substitutie_ascendenta(L, b):\n",
    "    N = b.shape[0]\n",
    "    x = np.zeros(N)\n",
    "\n",
    "    for i in range(0, N):\n",
    "        coefs = L[i, :i + 1]\n",
    "        values = x[:i + 1]\n",
    "\n",
    "        x[i] = (b[i] - coefs @ values) / L[i, i]\n",
    "\n",
    "    return x\n",
    "\n",
    "y = substitutie_ascendenta(L, b)\n",
    "x = substitutie_descendenta(L.T, y)\n",
    "print(\"x =\",x)"
   ]
  },
  {
   "cell_type": "markdown",
   "metadata": {},
   "source": [
    "## Exercițiul 6\n",
    "\n",
    "Metoda Jacobi - [cursul 7](https://drive.google.com/file/d/1Dk_6UFiM674Zwdm6VRAc9-a1rVQAH7Mu/view) sau [pe Wikipedia](https://en.wikipedia.org/wiki/Jacobi_eigenvalue_algorithm)"
   ]
  },
  {
   "cell_type": "code",
   "execution_count": 14,
   "metadata": {},
   "outputs": [],
   "source": [
    "A = np.array([\n",
    "    [4, 1, 1],\n",
    "    [1, 4, 1],\n",
    "    [1, 1, 4]\n",
    "], dtype=np.float64)"
   ]
  },
  {
   "cell_type": "code",
   "execution_count": 15,
   "metadata": {
    "scrolled": true
   },
   "outputs": [
    {
     "name": "stdout",
     "output_type": "stream",
     "text": [
      "Matricea inițială:\n",
      "[[4. 1. 1.]\n",
      " [1. 4. 1.]\n",
      " [1. 1. 4.]]\n",
      "\n",
      "După primul pas:\n",
      "[[5.6685871  0.59857503 0.72533587]\n",
      " [0.59857503 3.13426284 0.16269581]\n",
      " [0.72533587 0.16269581 3.19715007]]\n",
      "\n",
      "După al doilea pas:\n",
      "[[5.24160664 0.97206464 0.86897061]\n",
      " [0.97206464 3.42153233 0.37682597]\n",
      " [0.86897061 0.37682597 3.33686103]]\n",
      "\n",
      "Valorile proprii aproximative:\n",
      "[5.24160664 3.42153233 3.33686103]\n"
     ]
    }
   ],
   "source": [
    "def gaseste_max_nediagonal(M):\n",
    "    \"Caută elementul de valoare absolută maximă care nu se află pe diagonala principală\"\n",
    "    \n",
    "    # Matricea e simetrică, suficient să caut sub diagonala principală\n",
    "    sub_diagonala = np.tril(M, k=-1)\n",
    "\n",
    "    # Caut elementul de magnitudine maximă\n",
    "    index = np.argmax(np.abs(sub_diagonala))\n",
    "\n",
    "    # Returnez indicii elementului\n",
    "    return np.unravel_index(index, M.shape)\n",
    "\n",
    "def construieste_matrice_de_rotatie(i, j, theta):\n",
    "    direction = np.zeros(3)\n",
    "    direction[i] = 1\n",
    "    direction[j] = 1\n",
    "\n",
    "    r = scipy.spatial.transform.Rotation.from_rotvec(theta * direction)\n",
    "    \n",
    "    return r.as_matrix()\n",
    "\n",
    "def pas_metoda_jacobi(M):\n",
    "    \"Aplică o iterație din metoda Jacobi\"\n",
    "    \n",
    "    p, q = gaseste_max_nediagonal(M)\n",
    "    \n",
    "    if np.abs(M[p, p] - M[q, q]) < 1e-7:\n",
    "        theta = np.pi / 4\n",
    "    else:\n",
    "        theta = np.arctan(2 * M[p, q] / (M[q, q] - M[p, p]))/2\n",
    "\n",
    "    R = construieste_matrice_de_rotatie(p, q, theta)\n",
    "    \n",
    "    return R @ M @ R.T\n",
    "\n",
    "print(\"Matricea inițială:\")\n",
    "print(A)\n",
    "print()\n",
    "\n",
    "A1 = pas_metoda_jacobi(A)\n",
    "print(\"După primul pas:\")\n",
    "print(A1)\n",
    "print()\n",
    "\n",
    "A2 = pas_metoda_jacobi(A1)\n",
    "print(\"După al doilea pas:\")\n",
    "print(A2)\n",
    "print()\n",
    "\n",
    "print(\"Valorile proprii aproximative:\")\n",
    "print(np.diagonal(A2))"
   ]
  },
  {
   "cell_type": "markdown",
   "metadata": {},
   "source": [
    "## Exercițiul 7\n",
    "\n",
    "Polinom de interpolare Lagrange - [cursul 8](https://drive.google.com/file/d/14YiX_LDd2cOAiLBF4dyHlWcWzqRZ8htm/view)\n",
    "\n",
    "Fie o funcție $f$. Avem nodurile de interpolare $x_1$, $x_2$, $x_3$ și valorile corespunzătoare $y_1 = f(x_1)$, $y_2 = f(x_2)$, $y_3 = f(x_3)$.\n"
   ]
  },
  {
   "cell_type": "markdown",
   "metadata": {},
   "source": [
    "### a) Metoda directă\n",
    "\n",
    "Construim și rezolvăm sistemul\n",
    "$$\n",
    "\\begin{pmatrix}\n",
    "1 & x_1 & x_1^2 \\\\\n",
    "1 & x_2 & x_2^2 \\\\\n",
    "1 & x_3 & x_3^2\n",
    "\\end{pmatrix}\n",
    "\\cdot\n",
    "\\begin{pmatrix}\n",
    "a_1 \\\\\n",
    "a_2 \\\\\n",
    "a_3\n",
    "\\end{pmatrix}\n",
    "=\n",
    "\\begin{pmatrix}\n",
    "y_1 \\\\\n",
    "y_2 \\\\\n",
    "y_3\n",
    "\\end{pmatrix}\n",
    "$$\n",
    "unde $a_1$, $a_2$, $a_3$ sunt coeficienții polinomului cerut\n",
    "$$\n",
    "P_2(x) = a_1 + a_2 x + a_3 x^2\n",
    "$$"
   ]
  },
  {
   "cell_type": "markdown",
   "metadata": {},
   "source": [
    "### b) Metoda Lagrange\n",
    "\n",
    "Construim polinoamele $L_{n, k}$:\n",
    "$$\n",
    "L_{2, 1}(x) = \\frac{(x - x_2) (x - x_3)}{(x_1 - x_2) (x_1 - x_3)} \\\\\n",
    "L_{2, 2}(x) = \\frac{(x - x_1) (x - x_3)}{(x_2 - x_1) (x_2 - x_3)} \\\\\n",
    "L_{2, 3}(x) = \\frac{(x - x_1) (x - x_2)}{(x_3 - x_1) (x_3 - x_2)}\n",
    "$$\n",
    "\n",
    "Polinomul cerut este\n",
    "$$\n",
    "P_2(x) = L_{2, 1}(x) \\cdot y_1 + L_{2, 2}(x) \\cdot y_2 + L_{2, 3}(x) \\cdot y_3\n",
    "$$"
   ]
  },
  {
   "cell_type": "markdown",
   "metadata": {},
   "source": [
    "### c) Metoda Newton\n",
    "\n",
    "Construim și rezolvăm sistemul inferior triunghiular\n",
    "$$\n",
    "\\begin{array}{lcl}\n",
    "c_1 & = & y_1 \\\\\n",
    "c_1 + c_2 (x_2 - x_1) & = & y_2 \\\\\n",
    "c_1 + c_2 (x_3 - x_1) + c_3 (x_3 - x_1) (x_3 - x_2) & = & y_3\n",
    "\\end{array}\n",
    "$$\n",
    "\n",
    "Polinomul cerut este\n",
    "$$\n",
    "P_2(x) = c_1 + c_2 (x - x_1) + c_3 (x - x_1) (x - x_2)\n",
    "$$"
   ]
  },
  {
   "cell_type": "markdown",
   "metadata": {},
   "source": [
    "### d) Metoda Newton cu diferențe divizate\n",
    "\n",
    "Diferențele divizate de ordin 0, 1, 2 sunt:\n",
    "$$\n",
    "f[x_1] = f(x_1) \\\\\n",
    "f[x_1, x_2] = \\frac{f[x_2] - f[x_1]}{x_2 - x_1} \\\\\n",
    "f[x_1, x_2, x_3] = \\frac{f[x_2, x_3] - f[x_1, x_2]}{x_3 - x_1}\n",
    "$$\n",
    "\n",
    "Construim un tabel cu diferențele pentru cazul nostru:\n",
    "\n",
    "| $x_i$ | DD ordin 0 | DD ordin 1 | DD ordin 2 |\n",
    "|-------|------------|------------|------------|\n",
    "| $x_1$ | $$f[x_1] = f(x_1) = y_1$$ | | |\n",
    "| $x_2$ | $$f[x_2] = f(x_2) = y_2$$ | $$f[x_1, x_2]$$ | |\n",
    "| $x_3$ | $$f[x_3] = f(x_3) = y_3$$ | $$f[x_2, x_3]$$ | $$f[x_1, x_2, x_3]$$ |\n",
    "\n",
    "Polinomul cerut este\n",
    "$$\n",
    "P_2(x) = f[x_1] + f[x_1, x_2] (x - x_1) + f[x_1, x_2, x_3] (x - x_1) (x - x_2)\n",
    "$$"
   ]
  },
  {
   "cell_type": "markdown",
   "metadata": {},
   "source": [
    "## Exercițiul 8"
   ]
  },
  {
   "cell_type": "markdown",
   "metadata": {},
   "source": [
    "### a)\n",
    "\n",
    "$$\n",
    "f(x) = \\ln x \\\\\n",
    "x = (1, e, e^2)\n",
    "$$\n",
    "\n",
    "Cu metoda Lagrange obținem:\n",
    "\n",
    "$$\n",
    "L_{2, 1}(x) = \\frac{(x - e) (x - e^2)}{(1 - e) (1 - e^2)} \\\\\n",
    "L_{2, 2}(x) = \\frac{(x - 1) (x - e^2)}{(e - 1) (e - e^2)} \\\\\n",
    "L_{2, 3}(x) = \\frac{(x - 1) (x - e)}{(e^2 - 1) (e^2 - e)} \\\\\n",
    "P_2(x) =  L_{2, 1}(x) \\cdot \\ln 1 + L_{2, 2}(x) \\cdot \\ln e + L_{2, 3}(x) \\cdot \\ln e^2\n",
    "$$\n",
    "\n",
    "Cu metoda Newton cu diferențe divizate obținem:\n",
    "\n",
    "$$\n",
    "f[x_1] = \\ln 1; f[x_2] = \\ln e; f[x_3] = \\ln e^2 \\\\\n",
    "f[x_1, x_2] = \\frac{\\ln e - \\ln 1}{e - 1}; f[x_2, x_3] = \\frac{\\ln e^2 - \\ln e}{e^2 - e} \\\\\n",
    "f[x_1, x_2, x_3] = \\frac{f[x_2, x_3] - f[x_1, x_2]}{e^2 - 1} \\\\\n",
    "P_2(x) = f[x_1] + f[x_1, x_2] (x - 1) + f[x_1, x_2, x_3] (x - 1) (x - e)\n",
    "$$"
   ]
  },
  {
   "cell_type": "markdown",
   "metadata": {},
   "source": [
    "### b)\n",
    "\n",
    "Analog cu cel de mai sus, dar pentru $f(x) = \\sin \\left(\\frac{\\pi x}{2}\\right)$ și $x = (-1, 0, 1)$."
   ]
  },
  {
   "cell_type": "markdown",
   "metadata": {},
   "source": [
    "## Exercițiul 9\n",
    "\n",
    "Avem punctele $(-2, 1)$, $(-1, 4)$, $(0, 11)$, $(1, 16)$, $(2, 13)$, $(3, -4)$.\n",
    "\n",
    "Calculăm tabelul diferențelor divizate:\n",
    "\n",
    "\n",
    "| $x_i$ | DD ordin 0 | DD ordin 1 | DD ordin 2 | DD ordin 3 | DD ordin 4 | DD ordin 5 |\n",
    "|-------|------------|------------|------------|------------|------------|------------|\n",
    "| $$-2$$ | $$1$$ |\n",
    "| $$-1$$ | $$4$$ | $$3$$ |\n",
    "| $$0$$ | $$11$$ | $$7$$ | $$2$$ |\n",
    "| $$1$$ | $$16$$ | $$5$$ | $$-1$$ | $$-1$$ |\n",
    "| $$2$$ | $$13$$ | $$-3$$ | $$-4$$ | $$-1$$ | $$0$$ |\n",
    "| $$3$$ | $$-4$$ | $$-17$$ | $$-7$$ | $$-1$$ | $$0$$ | $$0$$ |\n",
    "\n",
    "Observăm că diferențele divizate de ordin 4 sau mai mare sunt 0, deci polinomul pe care l-am obține e de grad 3."
   ]
  },
  {
   "cell_type": "markdown",
   "metadata": {},
   "source": [
    "## Exercițiul 10\n",
    "\n",
    "Avem punctele $(0, 0)$, $(0.5, y)$, $(1, 3)$, $(2, 2)$.\n",
    "\n",
    "Polinomul de interpolare obținut prin metoda Lagrange este\n",
    "\n",
    "$$\n",
    "\\begin{align}\n",
    "P_3(x) &= L_{3, 1}(x) y_1 + L_{3, 2}(x) y_2 + L_{3, 3}(x) y_3 + L_{3, 4}(x) y_4 \\\\\n",
    "&= 0 + L_{3, 2}(x) y + L_{3, 3}(x) \\cdot 3 + L_{3, 4}(x) \\cdot 2 \\\\\n",
    "&= \\frac{(x - 0)(x - 1)(x - 2)}{(0.5 - 0) (0.5 - 1) (0.5 - 2)} \\cdot y + \\frac{(x - 0)(x - 0.5)(x - 2)}{(1 - 0)(1 - 0.5)(1 - 2)} \\cdot 3 + \\frac{(x - 0)(x - 0.5) (x - 1)}{(2 - 0)(2 - 0.5)(2 - 1)} \\cdot 2\n",
    "\\end{align}\n",
    "$$\n",
    "\n",
    "Dacă scoatem doar termenii de grad 3 rămânem cu\n",
    "\n",
    "$$\n",
    "\\frac{x^3}{0.375} \\cdot y + \\frac{x^3}{-0.5} \\cdot 3 + \\frac{x^3}{3} \\cdot 2\n",
    "$$\n",
    "\n",
    "Din cerință, știm că coeficientul acestui termen trebuie să fie egal cu 6, deci\n",
    "\n",
    "$$\n",
    "6 = \\frac{y}{0.375} - \\frac{3}{0.5} + \\frac{2}{3}\n",
    "$$\n",
    "\n",
    "de unde obținem $y = 4.25$"
   ]
  },
  {
   "cell_type": "markdown",
   "metadata": {},
   "source": [
    "## Exercițiul 11\n",
    "\n",
    "În cerință primim un tabel cu valorile polinomului în anumite puncte.\\\n",
    "O să considerăm că acestea sunt polii de interpolare, deci avem\n",
    "- $x_1 = 0, f(x_1) = 2$\n",
    "- $x_2 = 1, f(x_2) = -1$\n",
    "- $x_3 = 2, f(x_3) = 4$\n",
    "\n",
    "Din faptul că toate diferențele divizate de ordinul 3 sunt $1$, rezultă că diferențele divizate de ordin mai mare vor fi $0$; deci polinomul $P_n$ este de **gradul 3**.\n",
    "\n",
    "Ni se cere coeficientul lui $x^2$, acesta corespunde cu diferența divizată de ordin 2 $f[x_1, x_2, x_3]$.\n",
    "\n",
    "Din definiția diferențelor divizate știm că\n",
    "$$\n",
    "f[x_1, x_2, x_3] = \\frac{f[x_2, x_3] - f[x_1, x_2]}{x_3 - x_1}\n",
    "$$\n",
    "unde \n",
    "$$\n",
    "\\begin{align}\n",
    "f[x_1, x_2] &= \\frac{f(x_2) - f(x_1)}{x_2 - x_1} \\\\\n",
    "f[x_2, x_3] &= \\frac{f(x_3) - f(x_2)}{x_3 - x_2}\n",
    "\\end{align}\n",
    "$$\n",
    "\n",
    "Din datele pe care le avem, obținem\n",
    "$$\n",
    "\\begin{align}\n",
    "f[x_1, x_2] &= -3 \\\\\n",
    "f[x_2, x_3] &= 5\n",
    "\\end{align}\n",
    "$$\n",
    "și\n",
    "$$\n",
    "f[x_1, x_2, x_3] = \\frac{5 + 3}{2} = 4\n",
    "$$\n",
    "\n",
    "Deci coeficientul lui $x^2$ este $4$."
   ]
  },
  {
   "cell_type": "markdown",
   "metadata": {},
   "source": [
    "## Exercițiul 12\n",
    "\n",
    "Folosind valorile date și formula de mai sus, avem polinomul:\n",
    "\n",
    "$$\n",
    "P_2(x) = f[x_1] + f[x_1, x_2] \\cdot (x - 0) + f[x_1, x_2, x_3] \\cdot (x - 0) \\cdot (x - 0.4)\n",
    "$$"
   ]
  },
  {
   "cell_type": "markdown",
   "metadata": {},
   "source": [
    "## Exercițiul 13\n",
    "\n",
    "Interpolare spline liniară - secțiunea V.1 din [cursul 10](https://drive.google.com/file/d/1qclFs2MCxV_heEU4toWulxuGy-dY5VTO/view)"
   ]
  },
  {
   "cell_type": "markdown",
   "metadata": {},
   "source": [
    "### a)\n",
    "\n",
    "Definiția poate fi găsită în curs."
   ]
  },
  {
   "cell_type": "markdown",
   "metadata": {},
   "source": [
    "### b)\n",
    "\n",
    "Fie $f(x) = \\ln x$. Avem punctele $x = (1, e, e^2)$ și $y = f(x) = (\\ln 1, \\ln e, \\ln e^2) = (0, 1, 2)$.\n",
    "\n",
    "Calculăm coeficienții:\n",
    "\n",
    "$$\n",
    "a_1 = f(x_1) = 0 \\\\\n",
    "b_1 = \\frac{f(x_2) - f(x_1)}{x_2 - x_1} = \\frac{1 - 0}{e - 1} = \\frac{1}{e - 1}\n",
    "$$\n",
    "\n",
    "<hr/>\n",
    "\n",
    "$$\n",
    "a_2 = f(x_2) = 1 \\\\\n",
    "b_2 = \\frac{f(x_3) - f(x_2)}{x_3 - x_2} = \\frac{2 - 1}{e^2 - e} = \\frac{1}{e \\cdot (e - 1)}\n",
    "$$\n",
    "\n",
    "Cele două porțiuni sunt:\n",
    "\n",
    "$$\n",
    "S_1 \\colon [1, e) \\to \\mathbb{R}, S_1(x) = a_1 + b_1 (x - 1) \\\\\n",
    "S_2 \\colon [e, e^2] \\to \\mathbb{R}, S_2(x) = a_2 + b_2 (x - e)\n",
    "$$\n",
    "\n",
    "Funcția spline liniară care interpolează $f$ pe $[1, e^2]$ este reuniunea funcțiilor definite mai sus."
   ]
  },
  {
   "cell_type": "markdown",
   "metadata": {},
   "source": [
    "## Exercițiul 14\n",
    "\n",
    "Interpolare spline pătratică - secțiunea V.2 din [cursul 10](https://drive.google.com/file/d/1qclFs2MCxV_heEU4toWulxuGy-dY5VTO/view)"
   ]
  },
  {
   "cell_type": "markdown",
   "metadata": {},
   "source": [
    "### a)\n",
    "\n",
    "Definiția poate fi găsită în curs."
   ]
  },
  {
   "cell_type": "markdown",
   "metadata": {},
   "source": [
    "### b)\n",
    "\n",
    "Avem aceeași funcție și aceleași puncte ca la _13. b)_\n",
    "\n",
    "Coeficienții sunt:\n",
    "\n",
    "$$\n",
    "h_1 = x_2 - x_1 = e - 1 \\\\\n",
    "a_1 = f(x_1) = 0 \\\\\n",
    "b_1 = f'(x_1) = \\frac{1}{e} \\\\\n",
    "\\begin{align}\n",
    "c_1 &= \\frac{1}{h_1^2} (f(x_2) - f(x_1) - h_1 b_1) \\\\\n",
    "&= \\frac{1}{{(e - 1)}^2} \\left(1 - 0 - (e - 1) \\cdot \\frac{1}{e}\\right) \\\\\n",
    "&= \\frac{1}{{(e - 1)}^2} - \\frac{1}{(e - 1) \\cdot e}\n",
    "\\end{align}\n",
    "$$\n",
    "\n",
    "<hr/>\n",
    "\n",
    "$$\n",
    "h_2 = x_3 - x_2 = e^2 - e \\\\\n",
    "a_2 = f(x_2) = 1 \\\\\n",
    "b_2 = \\frac{2}{h_1} (f(x_2) - f(x_1)) - b_1 = \\frac{2}{e - 1} (1 - 0) - \\frac{1}{e} = \\frac{2}{e-1} - \\frac{1}{e} \\\\\n",
    "\\begin{align}\n",
    "c_2 &= \\frac{1}{{(e^2 - e)}^2} \\left(2 - 1 - (e - 1) \\cdot \\left(\\frac{1}{{(e - 1)}^2} - \\frac{1}{(e - 1) \\cdot e}\\right)\\right) \\\\\n",
    "&= \\frac{1}{{(e^2 - e)}^2} \\left(1 - \\frac{1}{e - 1} + \\frac{1}{e} \\right)\n",
    "\\end{align}\n",
    "$$\n",
    "\n",
    "Cele două porțiuni sunt $S_1(x) = a_1 + b_1 (x - 1) + c_1 (x - 1)^2$, $S_2(x) = a_2 + b_2 (x - e) + c_2 (x - e)^2$."
   ]
  },
  {
   "cell_type": "markdown",
   "metadata": {},
   "source": [
    "## Exercițiul 15\n",
    "\n",
    "Ce se cere este să deducem/scriem schema numerică de calcul a coeficienților unei funcții de interpolare spline pătratice, care se găsește și în curs:\n",
    "\n",
    "$$\n",
    "a_i = f(x_i), i \\in [1, n] \\\\\n",
    "b_1 = f'(x_1) \\\\\n",
    "b_i = \\frac{2}{h_{i - 1}} \\left(f(x_i) - f(x_{i-1}) \\right) - b_{i-1}, i \\in [2, n] \\\\\n",
    "c_i = \\frac{1}{h_i^2} \\left(f(x_{i + 1} - f(x_i) - h_i b_i)\\right), i \\in [1, n]\n",
    "$$\n",
    "\n",
    "Este suficient să aplicăm formulele de mai sus pentru $i = 1$ și $i = 2$."
   ]
  },
  {
   "cell_type": "markdown",
   "metadata": {},
   "source": [
    "## Exercițiul 16\n",
    "\n",
    "Funcția de interpolare spline cubică - [cursul 11](https://drive.google.com/file/d/1RYFk7vVf4D8IoGXkIPy1rZGiZTbt-PJH/view)"
   ]
  },
  {
   "cell_type": "code",
   "execution_count": 16,
   "metadata": {},
   "outputs": [],
   "source": [
    "x = np.array([0, 1, 2], dtype=np.float64)\n",
    "y = np.array([0, 1, 2], dtype=np.float64)"
   ]
  },
  {
   "cell_type": "markdown",
   "metadata": {},
   "source": [
    "Formulele pentru calcularea coeficienților unei funcții spline cubice sunt mai complicate. Trebuie să definim un sistem de liniar și să îl rezolvăm pentru a putea determina $b$-urile, iar din acestea putem calcula $c$-urile și $d$-urile."
   ]
  },
  {
   "cell_type": "code",
   "execution_count": 17,
   "metadata": {},
   "outputs": [
    {
     "name": "stdout",
     "output_type": "stream",
     "text": [
      "a = [0. 1.]\n",
      "b = [0.  1.5]\n",
      "c = [1.5 0. ]\n",
      "d = [-0.5 -0.5]\n"
     ]
    }
   ],
   "source": [
    "N = len(x) - 1\n",
    "\n",
    "# Coeficienții `a` sunt egali cu `y`\n",
    "a = y.copy()\n",
    "\n",
    "B = np.zeros((N + 1, N + 1))\n",
    "\n",
    "B[0, 0] = 1\n",
    "for i in range(1, N):\n",
    "    B[i, i - 1] = 1\n",
    "    B[i, i] = 4\n",
    "    B[i, i + 1] = 1\n",
    "B[N, N] = 1\n",
    "\n",
    "h = x[1] - x[0]\n",
    "\n",
    "W = np.zeros((N + 1, 1))\n",
    "for i in range(1, N):\n",
    "    W[i] = 3 * (y[i + 1] - y[i - 1]) / h\n",
    "\n",
    "# Coeficienții `b` se obțin rezolvând un sistem de ecuații (construit mai sus)\n",
    "b = np.linalg.solve(B, W).reshape(N + 1)\n",
    "\n",
    "c = np.zeros(N)\n",
    "d = np.zeros(N)\n",
    "\n",
    "h_squared = h * h\n",
    "h_cubed = h * h * h\n",
    "\n",
    "for i in range(N):\n",
    "    # Coeficienții `c` și `d` se obțin din `b`\n",
    "    c[i] = 3 * (y[i + 1] - y[i]) / h_squared - (b[i + 1] + 2 * b[i]) / h\n",
    "    d[i] = - 2 * (y[i + 1] - y[i]) / h_cubed + (b[i + 1] + b[i]) / h_squared\n",
    "\n",
    "print(\"a =\", a[:-1])\n",
    "print(\"b =\", b[:-1])\n",
    "print(\"c =\", c)\n",
    "print(\"d =\", d)"
   ]
  },
  {
   "cell_type": "markdown",
   "metadata": {},
   "source": [
    "## Exercițiul 18\n",
    "\n",
    "Din condiția că derivata de ordin I și II a funcției spline trebuie să fie continuă, avem că\n",
    "\n",
    "$$\n",
    "S_1'(1) = S_2'(1) \\iff 2 - 3 \\cdot 1^2 = B \\iff \\fbox{B = -1} \\\\\n",
    "S_1''(1) = S_2''(1) \\iff - 6 \\cdot 1 = 2 C \\iff \\fbox{C = -3}\n",
    "$$\n",
    "\n",
    "Din ipoteză ni se spune și că $S''(b) = 0$, deci\n",
    "\n",
    "$$\n",
    "S_2''(2) = 0 \\iff 2 C + 6 D (2 - 1) = 0 \\iff 6 D - 6 = 0 \\iff \\fbox{D = 1}\n",
    "$$"
   ]
  },
  {
   "cell_type": "markdown",
   "metadata": {},
   "source": [
    "## Exercițiul 19\n",
    "\n",
    "Scriem funcțiile $S_i$ și derivatele lor:\n",
    "\n",
    "$$\n",
    "\\begin{align}\n",
    "S_1 &\\colon [1, 2) \\to \\mathbb{R} \\\\\n",
    "S_1(x) &= 3(x - 1) + 2 (x - 1)^2 - (x - 1)^3 \\\\\n",
    "S_1'(x) &= 3 + 4 (x - 1) - 3(x - 1)^2 \\\\\n",
    "S_1''(x) &= 4 - 6 (x - 1)\n",
    "\\end{align}\n",
    "$$\n",
    "\n",
    "$$\n",
    "\\begin{align}\n",
    "S_2 &\\colon [2, 3] \\to \\mathbb{R} \\\\\n",
    "S_2(x) &= A + B (x - 2) + C (x - 2)^2 + D (x - 2)^3 \\\\\n",
    "S_2'(x) &= B + 2C (x - 2) + 3 D(x - 2)^2 \\\\\n",
    "S_2''(x) &= 2C + 6D (x - 2)\n",
    "\\end{align}\n",
    "$$\n",
    "\n",
    "Știm că funcția $S$ trebuie să fie continuă, deci\n",
    "$$\n",
    "S_1(2) = S_2(2) \\iff 3(2 - 1) + 2 (2 - 1)^2 - (2 - 1)^3 = A \\iff 3 + 2 - 1 = A \\iff \\fbox{$A = 4$}\n",
    "$$\n",
    "\n",
    "Știm că funcția $S'$ trebuie să fie continuă, deci\n",
    "$$\n",
    "S_1'(2) = S_2'(2) \\iff 3 + 4 (2 - 1) - 3 (2 - 1) = B \\iff 3 + 4 - 3 = B \\iff \\fbox{$B = 4$}\n",
    "$$\n",
    "\n",
    "Știm că funcția $S''$ trebuie să fie continuă, deci\n",
    "$$\n",
    "S_1''(2) = S_2''(2) \\iff 4 - 6 = 2 C \\iff \\fbox{$C = -1$}\n",
    "$$\n",
    "\n",
    "Din cerință ni se spune că\n",
    "$$\n",
    "f'(1) = f'(3) \\iff S_1'(1) = S_2'(3) \\iff 3 = 4 - 2 + 3D \\iff \\fbox{$D = \\frac{1}{3}$}\n",
    "$$"
   ]
  },
  {
   "cell_type": "markdown",
   "metadata": {},
   "source": [
    "## Exercițiul 22\n",
    "\n",
    "Derivarea numerică - [cursul 12](https://drive.google.com/file/d/1c6twFTnfwdq-3B9soATOsjv9NAh6811i/view)\n",
    "\n",
    "Scriem [dezvoltarea în serie Taylor până la ordinul 3](https://www.wolframalpha.com/input/?i=Taylor+series+expansion+of+f%28x+%2B+h%29+up+to+order+3) pentru termeni:\n",
    "\n",
    "$$\n",
    "f(x - h) = f(x) - h f'(x) + \\frac{h^2}{2} f''(x) - \\frac{h^3}{6} f^{(3)}(x) + O(h^4) \\\\\n",
    "f(x + h) = f(x) + h f'(x) + \\frac{h^2}{2} f''(x) + \\frac{h^3}{6} f^{(3)}(x) + O(h^4) \\\\\n",
    "f(x + 2h) = f(x) + 2h f'(x) + 2 h^2 f''(x) + \\frac{4 h^3}{3} f^{(3)}(x) + O(h^4) \\\\\n",
    "f(x + 3h) = f(x) + 3h f'(x) + \\frac{9 h^2}{2} f''(x) + \\frac{9h^3}{2} f^{(3)}(x) + O(h^4)\n",
    "$$"
   ]
  },
  {
   "cell_type": "markdown",
   "metadata": {},
   "source": [
    "După aceea, scriem combinația liniară din indicație $A f(x - h) + B f(x + h) + C f(x + 2h) + D f(x + 3h)$ și obținem:\n",
    "\n",
    "$$\n",
    "f(x) \\cdot (A + B + C + D) \\\\\n",
    "+ h f'(x) \\cdot (-A + B + 2C + 3D) \\\\\n",
    "+ h^2 f''(x) \\cdot \\left(\\frac{1}{2} A + \\frac{1}{2} B + 2 C + \\frac{9}{2} D\\right) \\\\\n",
    "+ h^3 f^{(3)}(x) \\cdot \\left(- \\frac{1}{6} A + \\frac{1}{6} B + \\frac{4}{3} C + \\frac{9}{2} D\\right) + O(h^4)\n",
    "$$"
   ]
  },
  {
   "cell_type": "markdown",
   "metadata": {},
   "source": [
    "Vrem să obținem o formulă în care să rămână doar $f'(x)$, deci construim sistemul:\n",
    "$$\n",
    "\\begin{pmatrix}\n",
    "1 & 1 & 1 & 1 \\\\\n",
    "-1 & 1 & 2 & 3 \\\\\n",
    "\\frac{1}{2} & \\frac{1}{2} & 2 & \\frac{9}{2} \\\\\n",
    "-\\frac{1}{6} & \\frac{1}{6} & \\frac{4}{3} & \\frac{9}{2}\n",
    "\\end{pmatrix}\n",
    "\\begin{pmatrix}\n",
    "A \\\\\n",
    "B \\\\\n",
    "C \\\\\n",
    "D\n",
    "\\end{pmatrix}\n",
    "=\n",
    "\\begin{pmatrix}\n",
    "0 \\\\\n",
    "1 \\\\\n",
    "0 \\\\\n",
    "0\n",
    "\\end{pmatrix}\n",
    "$$"
   ]
  },
  {
   "cell_type": "code",
   "execution_count": 18,
   "metadata": {},
   "outputs": [
    {
     "data": {
      "text/plain": [
       "array([[-0.45833333],\n",
       "       [ 0.25      ],\n",
       "       [ 0.33333333],\n",
       "       [-0.125     ]])"
      ]
     },
     "execution_count": 18,
     "metadata": {},
     "output_type": "execute_result"
    }
   ],
   "source": [
    "A = np.array([\n",
    "    [1, 1, 1, 1],\n",
    "    [-1, 1, 2, 3],\n",
    "    [1/2, 1/2, 2, 9/2],\n",
    "    [-1/6, 1/6, 4/3, 9/2]\n",
    "])\n",
    "b = np.array([[0, 1, 0, 0]]).T\n",
    "\n",
    "np.linalg.solve(A, b)"
   ]
  },
  {
   "cell_type": "markdown",
   "metadata": {},
   "source": [
    "Rezolvând sistemul obținem:\n",
    "\n",
    "$$\\frac{-0.4583 f(x - h) + 0.25 f(x + h) + 0.33 f(x + 2h) - 0.125 f(x + 3h)}{h} \\approx f'(x)$$\n",
    "\n",
    "cu ordinul de aproximare $\\frac{O\\left(h^4\\right)}{h} = O\\left(h^3\\right)$"
   ]
  },
  {
   "cell_type": "markdown",
   "metadata": {},
   "source": [
    "## Exercițiul 24\n",
    "\n",
    "Putem să plecăm de la metoda de extrapolare Richardson descrisă în curs, dar în loc să folosim $\\varphi(h), \\varphi\\left(\\frac{h}{2}\\right), \\varphi\\left(\\frac{h}{2^2}\\right)$ folosim $\\varphi(h), \\varphi\\left(\\frac{h}{3}\\right), \\varphi\\left(\\frac{h}{3^2}\\right)$.\n",
    "\n",
    "Pentru a păstra notația din curs, notăm\n",
    "$$\n",
    "Q_{i, j} = \\varphi_j \\left(\\frac{h}{3^{i - j}}\\right)\n",
    "$$\n",
    "definit inductiv prin\n",
    "$$\n",
    "Q_{i, j} = \\varphi_{j - 1} \\left(\\frac{h}{3^{i - j + 1}}\\right) + \\frac{1}{3^{j - 1} - 1}\\left(\n",
    "\\varphi_{j - 1}\\left(\\frac{h}{3^{i - (j - 1)}}\\right) - \\varphi_{j - 1}\\left(\\frac{h}{3^{i - 1 - (j - 1)}}\\right)\n",
    "\\right)\n",
    "$$\n",
    "\n",
    "Scris mai pe scurt:\n",
    "$$\n",
    "Q_{i, j} = Q_{i, j-1} + \\frac{1}{3^{j - 1} - 1} \\left(Q_{i, j - 1} - Q_{i - 1, j - 1} \\right)\n",
    "$$\n",
    "unde\n",
    "$$\n",
    "Q_{1, 1} = \\varphi(h), Q_{2, 1} = \\varphi\\left(\\frac{h}{3}\\right), Q_{3, 1} = \\varphi\\left(\\frac{h}{3^2}\\right)\n",
    "$$\n",
    "\n",
    "Dacă aplicăm formula inductivă de mai sus plecând de la $Q_{3, 3}$, obținem aproximarea de ordinul $O(h^3)$ care se cere în enunț."
   ]
  },
  {
   "cell_type": "markdown",
   "metadata": {},
   "source": [
    "## Exercițiul 25\n",
    "\n",
    "Formule de cuadratură Newton-Cotes - secțiunea VII.2 din [cursul 13](https://drive.google.com/file/d/1DCPEvUUGvzI1cGpAiGzLdMCv4qWPc4T3/view).\n",
    "\n",
    "Formula de cuadratură a dreptunghiului este:\n",
    "$$\n",
    "I_0 (f) = (b - a) f\\left(\\frac{a + b}{2}\\right)\n",
    "$$\n",
    "\n",
    "Formula de cuadratură a trapezului este:\n",
    "$$\n",
    "I_1 (f) = \\frac{b - a}{2} \\cdot \\left[f(a) + f(b)\\right]\n",
    "$$\n",
    "\n",
    "Formula de cuadratură Simpson este:\n",
    "$$\n",
    "I_2 (f) = \\frac{b - a}{6} \\cdot \\left[f(a) + 4 f\\left(\\frac{a + b}{2}\\right) + f(b)\\right]\n",
    "$$\n",
    "\n",
    "În cazul nostru:\n",
    "$$\n",
    "\\frac{2 - 0}{2} \\cdot \\left[f(0) + f(2)\\right] = 5 \\implies f(0) + f(2) = 5 \\\\\n",
    "(2 - 0) \\cdot f \\left(\\frac{0 + 2}{2}\\right) = 2 f(1) = 4 \\implies f(1) = 2\n",
    "$$\n",
    "\n",
    "Deci formula Simpson ne-ar da rezultatul\n",
    "$$\n",
    "I_2 (f) = \\frac{2 - 0}{6} \\cdot \\left[f(0) + 4 f(1) + f(2)\\right] = \\frac{13}{3}\n",
    "$$"
   ]
  },
  {
   "cell_type": "markdown",
   "metadata": {},
   "source": [
    "## Exercițiul 27\n",
    "\n",
    "Formule de cuadratură sumată - secțiunea VII.3 din [cursul 13](https://drive.google.com/file/d/1DCPEvUUGvzI1cGpAiGzLdMCv4qWPc4T3/view).\n",
    "\n",
    "Formula de cuadratură sumată a trapezului este\n",
    "$$\n",
    "I_{1, m}(f) = \\frac{h}{2}\\left(f(x_1) + 2 \\sum_{k = 2}^{m} f(x_k) + f(x_{m + 1}) \\right)\n",
    "$$\n",
    "\n",
    "În cazul nostru, pentru $m = 4$, avem $h = \\frac{1}{4} = 0.25$. Formula s-ar scrie ca:\n",
    "$$\n",
    "\\begin{align}\n",
    "I_{1, 4}(f) &= \\frac{h}{2} (f(0) + 2 (f(0.25) + f(0.5) + f(0.75)) + f(1)) \\\\\n",
    "&= 0.125 (1 + 2(\\alpha + 2.5 + \\alpha) + 2)) \\\\\n",
    "&= 0.125 (8 + 4 \\alpha) = 1 + 0.5 \\alpha\n",
    "\\end{align}\n",
    "$$\n",
    "Egalând cu valoarea dată din cerință:\n",
    "$$\n",
    "1 + 0.5\\alpha \\approx 1.75 \\iff 0.5 \\alpha \\approx 0.75 \\iff \\fbox{$\\alpha \\approx 1.5$}\n",
    "$$"
   ]
  }
 ],
 "metadata": {
  "kernelspec": {
   "display_name": "Python 3",
   "language": "python",
   "name": "python3"
  },
  "language_info": {
   "codemirror_mode": {
    "name": "ipython",
    "version": 3
   },
   "file_extension": ".py",
   "mimetype": "text/x-python",
   "name": "python",
   "nbconvert_exporter": "python",
   "pygments_lexer": "ipython3",
   "version": "3.6.9"
  }
 },
 "nbformat": 4,
 "nbformat_minor": 4
}
