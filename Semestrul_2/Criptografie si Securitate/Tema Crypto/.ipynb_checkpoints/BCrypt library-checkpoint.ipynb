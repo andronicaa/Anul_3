{
 "cells": [
  {
   "cell_type": "markdown",
   "id": "e16235b4",
   "metadata": {},
   "source": [
    "## BCRYPT"
   ]
  },
  {
   "cell_type": "code",
   "execution_count": 4,
   "id": "29820dee",
   "metadata": {},
   "outputs": [],
   "source": [
    "import bcrypt"
   ]
  },
  {
   "cell_type": "code",
   "execution_count": 70,
   "id": "f2090553",
   "metadata": {},
   "outputs": [],
   "source": [
    "f = open(\"users_file.txt\", \"w\")"
   ]
  },
  {
   "cell_type": "code",
   "execution_count": 71,
   "id": "d0ea90bf",
   "metadata": {},
   "outputs": [],
   "source": [
    "def add_user_pass(user, password):\n",
    "    password = str.encode(password)\n",
    "    #     adaug user-ul si parola corespunzatoare(hash) intr-un fisier\n",
    "    salt = bcrypt.gensalt()\n",
    "    hashed_pass = bcrypt.hashpw(password, salt)\n",
    "    hashed_pass = hashed_pass.decode(\"utf-8\")\n",
    "    \n",
    "    user_pass = user + \" \" + hashed_pass \n",
    "    f.write(user_pass)\n",
    "    f.write(\"\\n\")"
   ]
  },
  {
   "cell_type": "code",
   "execution_count": 72,
   "id": "637269cd",
   "metadata": {},
   "outputs": [],
   "source": [
    "def read_from_file():\n",
    "    file_info = open(\"users_file.txt\", 'r')\n",
    "    lines_from_file = file_info.readlines()\n",
    "    return lines_from_file"
   ]
  },
  {
   "cell_type": "code",
   "execution_count": 81,
   "id": "d8f65084",
   "metadata": {},
   "outputs": [],
   "source": [
    "def check_user_pass(user, raw_password):\n",
    "    bytes_password = str.encode(raw_password)\n",
    "    lines = read_from_file()\n",
    "    print(lines)\n",
    "    \n",
    "    check = False\n",
    "    for line in lines:\n",
    "#         print(\"DA\")\n",
    "        strs = line.split()\n",
    "        file_user = strs[0]\n",
    "        hashed_password = strs[1]\n",
    "        hashed_password = hashed_password.replace('\\n', '')\n",
    "        bytes_hashed_password = str.encode(hashed_password)\n",
    "#         print(file_user)\n",
    "#         print(hashed_password)\n",
    "        if file_user == user and bcrypt.checkpw(bytes_password, bytes_hashed_password):\n",
    "            print(\"Da, s-au gasit!\")\n",
    "            check = True\n",
    "            break\n",
    "    \n",
    "    \n",
    "    if check == False:\n",
    "        print(\"Nu s-a gasit nicio potrivire in fisier\")\n",
    "    \n",
    "    \n",
    "    "
   ]
  },
  {
   "cell_type": "code",
   "execution_count": 82,
   "id": "6f07b22f",
   "metadata": {},
   "outputs": [
    {
     "name": "stdout",
     "output_type": "stream",
     "text": [
      "Ce actiune doriti sa realizati?(Tastati cifra corespunzatoare)\n",
      "1. Introducere nou user si parola\n",
      "2. Verificare existenta user in fisier\n",
      "Operatiune: 2\n",
      "Introduceti user-ul si parola\n",
      "User: alexandra\n",
      "Parola: alexandra1\n",
      "['alexandra $2b$12$N3oW28WWybKrjcAzq/SYNe/a6ZbM0NADFU.PsKeol/NQSuVUl2b.2\\n']\n",
      "Da, s-au gasit!\n"
     ]
    }
   ],
   "source": [
    "if __name__ == '__main__':\n",
    "    while True:\n",
    "        print(\"Ce actiune doriti sa realizati?(Tastati cifra corespunzatoare)\")\n",
    "        print(\"1. Introducere nou user si parola\")\n",
    "        print(\"2. Verificare existenta user in fisier\")\n",
    "        option = int(input(\"Operatiune: \"))\n",
    "        if option == 1:\n",
    "            print(\"Introduceti user-ul si parola\")\n",
    "            while True:\n",
    "                user = str(input(\"User: \"))\n",
    "                if ' ' in user:\n",
    "                    print(\"User-ul nu trebuie sa contina spatii\")\n",
    "                else:\n",
    "                    break\n",
    "            \n",
    "            while True:\n",
    "                password = str(input(\"Parola: \"))\n",
    "                if ' ' in password:\n",
    "                    print(\"Parola-ul nu trebuie sa contina spatii\")\n",
    "                else:\n",
    "                    break\n",
    "                    \n",
    "            add_user_pass(user, password)\n",
    "            break\n",
    "        elif option == 2:\n",
    "            print(\"Introduceti user-ul si parola\")\n",
    "            while True:\n",
    "                user = str(input(\"User: \"))\n",
    "                if ' ' in user:\n",
    "                    print(\"User-ul nu trebuie sa contina spatii\")\n",
    "                else:\n",
    "                    break\n",
    "            \n",
    "            while True:\n",
    "                password = str(input(\"Parola: \"))\n",
    "                if ' ' in password:\n",
    "                    print(\"Parola-ul nu trebuie sa contina spatii\")\n",
    "                else:\n",
    "                    break\n",
    "            check_user_pass(user, password)\n",
    "            break\n",
    "        else:\n",
    "            print(\"Trebuie sa alegeti una dintre optiunile de mai sus. Introducerea altei optiuni nu este valida\")\n",
    "        \n",
    "        "
   ]
  },
  {
   "cell_type": "code",
   "execution_count": null,
   "id": "5fcf9600",
   "metadata": {},
   "outputs": [],
   "source": []
  },
  {
   "cell_type": "code",
   "execution_count": null,
   "id": "577cb3ea",
   "metadata": {},
   "outputs": [],
   "source": []
  }
 ],
 "metadata": {
  "kernelspec": {
   "display_name": "Python 3",
   "language": "python",
   "name": "python3"
  },
  "language_info": {
   "codemirror_mode": {
    "name": "ipython",
    "version": 3
   },
   "file_extension": ".py",
   "mimetype": "text/x-python",
   "name": "python",
   "nbconvert_exporter": "python",
   "pygments_lexer": "ipython3",
   "version": "3.8.5"
  }
 },
 "nbformat": 4,
 "nbformat_minor": 5
}
